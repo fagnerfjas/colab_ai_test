{
  "nbformat": 4,
  "nbformat_minor": 0,
  "metadata": {
    "colab": {
      "provenance": [],
      "authorship_tag": "ABX9TyNbiazvhKlR0JcXyaIXeXuh",
      "include_colab_link": true
    },
    "kernelspec": {
      "name": "python3",
      "display_name": "Python 3"
    },
    "language_info": {
      "name": "python"
    }
  },
  "cells": [
    {
      "cell_type": "markdown",
      "metadata": {
        "id": "view-in-github",
        "colab_type": "text"
      },
      "source": [
        "<a href=\"https://colab.research.google.com/github/fagnerfjas/colab_ai_test/blob/main/Untitled2.ipynb\" target=\"_parent\"><img src=\"https://colab.research.google.com/assets/colab-badge.svg\" alt=\"Open In Colab\"/></a>"
      ]
    },
    {
      "cell_type": "code",
      "execution_count": null,
      "metadata": {
        "id": "5xBRkgACnPHC"
      },
      "outputs": [],
      "source": []
    },
    {
      "cell_type": "markdown",
      "source": [
        "Instalando a Api do Gemini"
      ],
      "metadata": {
        "id": "x7nI6viKnhNZ"
      }
    },
    {
      "cell_type": "code",
      "execution_count": null,
      "metadata": {
        "id": "J6Pd9SFJ1yVi"
      },
      "outputs": [],
      "source": [
        "!pip install -q -U google-generativeai"
      ]
    },
    {
      "cell_type": "code",
      "source": [
        "# Import the Python SDK\n",
        "import google.generativeai as genai\n",
        "# Used to securely store your API key\n",
        "from google.colab import userdata\n",
        "\n",
        "api_key = userdata.get('SECRET_KEY')\n",
        "\n",
        "genai.configure(api_key=api_key)"
      ],
      "metadata": {
        "id": "JYDKTSYMnqxs"
      },
      "execution_count": 20,
      "outputs": []
    },
    {
      "cell_type": "code",
      "source": [
        "for m in genai.list_models():\n",
        "  if 'generateContent' in m.supported_generation_methods:\n",
        "    print(m.name)"
      ],
      "metadata": {
        "colab": {
          "base_uri": "https://localhost:8080/",
          "height": 139
        },
        "id": "xYnXyavqnyLb",
        "outputId": "9c62d234-615b-41ae-dcef-6c4c5b4cc8a1"
      },
      "execution_count": null,
      "outputs": [
        {
          "output_type": "stream",
          "name": "stdout",
          "text": [
            "models/gemini-1.0-pro\n",
            "models/gemini-1.0-pro-001\n",
            "models/gemini-1.0-pro-latest\n",
            "models/gemini-1.0-pro-vision-latest\n",
            "models/gemini-1.5-pro-latest\n",
            "models/gemini-pro\n",
            "models/gemini-pro-vision\n"
          ]
        }
      ]
    },
    {
      "cell_type": "code",
      "source": [
        "generation_config = {\n",
        "    \"candidate_count\": 1,\n",
        "    \"temperature\": 0.5,\n",
        "}\n",
        "\n",
        "safety_settings = {\n",
        "    \"HARASSMENT\": \"BLOCK_NONE\",\n",
        "    \"HATE\": \"BLOCK_NONE\",\n",
        "}"
      ],
      "metadata": {
        "id": "U00X3UjGpmEt"
      },
      "execution_count": null,
      "outputs": []
    },
    {
      "cell_type": "code",
      "source": [
        "model = genai.GenerativeModel(\n",
        "      model_name='gemini-1.0-pro',\n",
        "      generation_config=generation_config,\n",
        "      safety_settings=safety_settings\n",
        "      )"
      ],
      "metadata": {
        "id": "quMkHbQ3qz1D"
      },
      "execution_count": null,
      "outputs": []
    },
    {
      "cell_type": "code",
      "source": [
        "response = model.generate_content(\"Como foi produzida a discografia do cantor Fagner?\")\n",
        "print(response.text)"
      ],
      "metadata": {
        "colab": {
          "base_uri": "https://localhost:8080/",
          "height": 833
        },
        "id": "GDCj28-TsNRv",
        "outputId": "8f3a2ce6-a8a5-43d4-bce7-6a78263fadbf"
      },
      "execution_count": null,
      "outputs": [
        {
          "output_type": "stream",
          "name": "stdout",
          "text": [
            "**Década de 1970**\n",
            "\n",
            "* **1973:** Manera Fru-Fru, Manera Miguilim (com Belchior)\n",
            "* **1975:** Ave Noturna (com Belchior)\n",
            "* **1976:** Canteiros do Sul\n",
            "* **1977:** Equilíbrio Distante\n",
            "* **1978:** Transversal do Tempo\n",
            "\n",
            "**Década de 1980**\n",
            "\n",
            "* **1981:** Naquela Estrada\n",
            "* **1982:** O Quinze\n",
            "* **1983:** Cartaz\n",
            "* **1985:** Bedankt, Brasil\n",
            "* **1987:** Fagner\n",
            "* **1989:** Terra\n",
            "\n",
            "**Década de 1990**\n",
            "\n",
            "* **1991:** Pedra Filosofal\n",
            "* **1993:** O Tempo Não Para\n",
            "* **1995:** O Silêncio das Noites\n",
            "* **1997:** O Homem da Meia-Noite\n",
            "\n",
            "**Década de 2000**\n",
            "\n",
            "* **2001:** O Quinze (regravação)\n",
            "* **2004:** Fortalezas\n",
            "* **2007:** 30 Anos de Música\n",
            "* **2009:** Canções do Amor Demais\n",
            "\n",
            "**Década de 2010**\n",
            "\n",
            "* **2013:** Homem da Meia-Noite (regravação)\n",
            "* **2015:** Canções do Nordeste\n",
            "* **2017:** Fagner\n",
            "\n",
            "**Década de 2020**\n",
            "\n",
            "* **2021:** Fagner Canta Gonzagão\n",
            "\n",
            "**Produção**\n",
            "\n",
            "* A maioria dos álbuns de Fagner foram produzidos por grandes gravadoras, como EMI, PolyGram e Sony Music.\n",
            "* Os primeiros álbuns foram produzidos por músicos e produtores locais, como Zé Ramalho e Roberto Santana.\n",
            "* A partir da década de 1980, Fagner passou a trabalhar com produtores renomados, como Guto Graça Mello e Liminha.\n",
            "* Os álbuns mais recentes foram produzidos por Fagner em parceria com músicos e produtores de sua confiança.\n"
          ]
        }
      ]
    },
    {
      "cell_type": "code",
      "source": [
        "chat = model.start_chat(history=[])"
      ],
      "metadata": {
        "id": "mPD3pRWhtATL"
      },
      "execution_count": null,
      "outputs": []
    },
    {
      "cell_type": "code",
      "source": [
        "prompt = input(\"Diga algo... \")\n",
        "\n",
        "while prompt != \"fim\":\n",
        "  response = chat.send_message(prompt)\n",
        "  print(\"respostas: \\n\" + response.text + \"\\n\")\n",
        "  prompt = input(\">>> \")"
      ],
      "metadata": {
        "colab": {
          "base_uri": "https://localhost:8080/",
          "height": 384
        },
        "id": "ZfTYSQnTtas5",
        "outputId": "b139f1ca-a968-4749-85bf-76dcd21ef04f"
      },
      "execution_count": null,
      "outputs": [
        {
          "name": "stdout",
          "output_type": "stream",
          "text": [
            "Diga algo... Ok, me fale um pouco sobre você..\n",
            "respostas: \n",
            "Sou Gemini, um modelo de linguagem de IA multimodal desenvolvido pelo Google. Meu objetivo é ajudar as pessoas a concluírem suas tarefas de escrita, fornecendo-lhes informações, ideias e assistência na geração de texto.\n",
            "\n",
            ">>> você sabe me dizer como ganhar dinheiro com pouco trabalho ???\n",
            "respostas: \n",
            "**Maneiras de ganhar dinheiro com pouco trabalho:**\n",
            "\n",
            "* **Pesquisas online:** Participe de pesquisas pagas para compartilhar suas opiniões e ganhar recompensas.\n",
            "* **Freelance:** Ofereça seus serviços como freelancer em plataformas como Upwork, Fiverr e Freelancer.com.\n",
            "* **Marketing de afiliados:** Promova produtos ou serviços de outras pessoas e ganhe comissões sobre as vendas geradas.\n",
            "* **Vendas de produtos digitais:** Crie e venda produtos digitais como e-books, cursos online ou modelos.\n",
            "* **Dropshipping:** Venda produtos online sem manter estoque. Você faz parceria com um fornecedor que cuida do envio.\n",
            "* **Aluguel de ativos:** Alugue itens que você não usa, como um quarto extra, um carro ou equipamentos.\n",
            "* **Investimentos passivos:** Invista em ativos que geram renda passiva, como imóveis para aluguel ou dividendos de ações.\n",
            "* **Trabalho temporário:** Aceite trabalhos temporários ou de meio período que ofereçam flexibilidade e baixos requisitos de trabalho.\n",
            "* **Assistente virtual:** Forneça suporte administrativo ou técnico remoto a empresas ou indivíduos.\n",
            "* **Tutor online:** Compartilhe seus conhecimentos e habilidades como tutor online em plataformas como Chegg ou Tutor.com.\n",
            "\n",
            ">>> fim\n"
          ]
        }
      ]
    }
  ]
}